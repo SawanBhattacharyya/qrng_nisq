{
 "cells": [
  {
   "cell_type": "code",
   "execution_count": 7,
   "id": "e4f848d6-4b71-4c9e-bd2f-5f19b3973a71",
   "metadata": {},
   "outputs": [],
   "source": [
    "import random\n",
    "import math as m"
   ]
  },
  {
   "cell_type": "code",
   "execution_count": 1,
   "id": "6c8c7452-020f-43b2-b9c8-20c15b7e4e50",
   "metadata": {},
   "outputs": [
    {
     "ename": "NameError",
     "evalue": "name 'bob_list' is not defined",
     "output_type": "error",
     "traceback": [
      "\u001b[0;31m---------------------------------------------------------------------------\u001b[0m",
      "\u001b[0;31mNameError\u001b[0m                                 Traceback (most recent call last)",
      "Cell \u001b[0;32mIn[1], line 195\u001b[0m\n\u001b[1;32m    192\u001b[0m         \u001b[38;5;28;01mreturn\u001b[39;00m left_sub_block \u001b[38;5;241m+\u001b[39m corrected_right_sub_block\n\u001b[1;32m    194\u001b[0m \u001b[38;5;66;03m# Retry the error correction process using the modified algorithm\u001b[39;00m\n\u001b[0;32m--> 195\u001b[0m corrected_key \u001b[38;5;241m=\u001b[39m \u001b[43mbob_list\u001b[49m\n\u001b[1;32m    197\u001b[0m \u001b[38;5;28;01mfor\u001b[39;00m iteration \u001b[38;5;129;01min\u001b[39;00m \u001b[38;5;28mrange\u001b[39m(num_iterations):\n\u001b[1;32m    198\u001b[0m \n\u001b[1;32m    199\u001b[0m \u001b[38;5;66;03m# Shuffle the corrected_key\u001b[39;00m\n\u001b[1;32m    200\u001b[0m     shuffled_key, permutation \u001b[38;5;241m=\u001b[39m Key_Shuffle(corrected_key, iteration)\n",
      "\u001b[0;31mNameError\u001b[0m: name 'bob_list' is not defined"
     ]
    }
   ],
   "source": [
    "'''\n",
    "The function generate_random_unique_list() takes the parameter and generate permuation needed for key shuffling\n",
    "'''\n",
    "def generate_random_unique_list(start, end, size):\n",
    "    if size > (end - start + 1):\n",
    "        raise ValueError(\"Size of the list should not exceed the range of unique numbers.\")\n",
    "    random_list = list(range(start, end + 1))\n",
    "    random.shuffle(random_list)\n",
    "    return random_list\n",
    "\n",
    "'''\n",
    "The function Key_Shuffle() would take the noisy_key as input and shuffle the noisy_key \n",
    "Input: noisy_key, current iteration\n",
    "Output: Shuffled Key\n",
    "The function return the shuffled key after each iteration\n",
    "Done by: BOB\n",
    "'''\n",
    "def Key_Shuffle(noisy_key, iteration):\n",
    "    length_key = len(noisy_key)\n",
    "    shuffled_key = [0] * length_key\n",
    "    per = list(range(length_key))  # Generate a list of indices from 0 to length_key - 1\n",
    "    \n",
    "    if iteration != 0:\n",
    "        per = generate_random_unique_list(0, length_key - 1, length_key)\n",
    "    \n",
    "    for i in range(length_key):\n",
    "        shuffled_key[per[i]] = noisy_key[i]\n",
    "    \n",
    "    return shuffled_key, per\n",
    "\n",
    "\n",
    "'''\n",
    "The function block_creation() would give the block size after shuffling is done over key \n",
    "Input: shuffled_key,current iteration,Q\n",
    "Output: Block_Size\n",
    "The fucntion would return block size over the shuffled key after given iteration\n",
    "Done by: BOB\n",
    "'''\n",
    "def block_creation(shuffled_key,iteration,Q):\n",
    "    if (iteration == 0):\n",
    "        block_size = 0.73/Q\n",
    "    else:\n",
    "        block_size = 2*block_creation(shuffled_key,iteration-1,Q)\n",
    "    return block_size\n",
    "\n",
    "'''\n",
    "The fucntion compute_current_parity() would give the parity of the shuffled block and is done by Bob \n",
    "Input: block\n",
    "Output: parity\n",
    "Parity: Odd Parity(#1 = EVEN then Parity == 1)\n",
    "The fucntion is going to cal parity for each block at each iteration\n",
    "Done by: Bob\n",
    "'''\n",
    "def compute_current_parity(block):\n",
    "    size_block = len(block)\n",
    "    parity_current = 0\n",
    "    for i in range(size_block):\n",
    "        if(block[i]==1):\n",
    "            parity_current+=1\n",
    "        else:\n",
    "            pass\n",
    "    if(parity_current % 2 ==0):\n",
    "        return 1\n",
    "    else:\n",
    "        return 0\n",
    "'''\n",
    "The function compute_correct_parity() compute parity of the block in the correct key with the indices provided by BOB\n",
    "Input: correct key(Alice original), indices_list\n",
    "Output: parity of the block \n",
    "Parity: Odd Parity(#1 = EVEN then Parity == 1)\n",
    "The function is going to compute the parity of the block from the correct noiseless key with indices provided by\n",
    "BOB\n",
    "'''\n",
    "def compute_correct_parity(correct_key, indices_list):\n",
    "    size_correct_key = len(correct_key)\n",
    "    size_indices_list = len(indices_list)\n",
    "    ret_indx = 0\n",
    "    j = 0\n",
    "    parity_correct = 0\n",
    "    for i in range(size_correct_key):\n",
    "        j = ret_indx\n",
    "        while j < size_indices_list:\n",
    "            if (i == indices_list[j]) and (correct_key[i] == 1):\n",
    "                parity_correct += 1\n",
    "                ret_indx += 1\n",
    "                break\n",
    "            j += 1\n",
    "    if parity_correct % 2 == 0:\n",
    "        return 1\n",
    "    else:\n",
    "        return 0\n",
    "    \n",
    "'''\n",
    "The fucntion error_parity calculate whether there are even number of error or e=odd number of error\n",
    "Input: parity_correct, parity_current\n",
    "Output: error_parity\n",
    "Done by: Bob\n",
    "'''\n",
    "def compute_error_parity(correct_parity, current_parity):\n",
    "    error_parity = \"EVEN\"\n",
    "    if correct_parity != current_parity:\n",
    "        error_parity = \"ODD\"\n",
    "    return error_parity\n",
    "       \n",
    "\n",
    "\n",
    "'''\n",
    "Binary algorithm split the sublock into equal sizesubblock and correct the error and return it...\n",
    "\n",
    "'''\n",
    "'''\n",
    "def recursive_binary_algorithm(block, permutation, correct_key):\n",
    "    # Calculate the number of errors in the block\n",
    "    #od = block.count(1)\n",
    "    sum = 0\n",
    "    for i in range(len(block)):\n",
    "        sum += block[i]\n",
    "    print(sum)\n",
    "    print(block)\n",
    "    if sum % 2 == 0:\n",
    "        raise ValueError(\"Input block must have an odd number of errors.\")\n",
    "    \n",
    "    # Base case: If the block has only one bit and we know it has an odd number of errors,\n",
    "    # we can conclude that the single bit must be in error and correct it.\n",
    "    if len(block) == 1:\n",
    "        block[0] = 1 - block[0]  # Correct the error by flipping the bit\n",
    "        return block\n",
    "\n",
    "    # Split the block and permutation into left and right sub-blocks\n",
    "    midpoint = int(len(block) / 2)\n",
    "    left_sub_block = block[:midpoint]\n",
    "    right_sub_block = block[midpoint:]\n",
    "    left_sub_permute = permutation[:midpoint]\n",
    "    right_sub_permute = permutation[midpoint:]\n",
    "\n",
    "    # Determine the error parity for the left sub-block\n",
    "    current_parity = compute_current_parity(left_sub_block)\n",
    "    correct_parity = compute_correct_parity(correct_key, left_sub_permute)\n",
    "    error_parity = compute_error_parity(correct_parity, current_parity)\n",
    "\n",
    "    if(error_parity == \"ODD\"):\n",
    "        print(\"leftsubblock\")\n",
    "        print(error_parity)\n",
    "        print(left_sub_block)\n",
    "        print(\"alice_block\")\n",
    "        for i in range(len(permutation)):\n",
    "            print(correct_key[permutation[i]])\n",
    "        # Error parity is odd, recurse into the left sub-block\n",
    "        corrected_left_sub_block = recursive_binary_algorithm(left_sub_block, left_sub_permute, correct_key)\n",
    "        return corrected_left_sub_block + right_sub_block  # Combine the corrected left sub-block with the right sub-block\n",
    "    if(error_parity == \"EVEN\"):\n",
    "        print(\"rightsubblock\")\n",
    "        print(error_parity)\n",
    "        print(right_sub_block)\n",
    "        print(\"alice_block\")\n",
    "        for i in range(len(permutation)):\n",
    "            print(correct_key[permutation[i]])\n",
    "        # Error parity is even, recurse into the right sub-block\n",
    "        corrected_right_sub_block = recursive_binary_algorithm(right_sub_block, right_sub_permute, correct_key)\n",
    "        return left_sub_block + corrected_right_sub_block  # Combine the left sub-block with the corrected right sub-block\n",
    "\n",
    "\n",
    "'''\n",
    "def recursive_binary_algorithm(block, permutation, correct_key):\n",
    "    # Calculate the number of errors in the block\n",
    "    od = block.count(1)\n",
    "    \n",
    "    # Base case: If the block has only one bit or has even number of errors, \n",
    "    # we just return the block as it is.\n",
    "    if len(block) == 1 or od % 2 == 0:\n",
    "        return block\n",
    "\n",
    "    # Split the block and permutation into left and right sub-blocks\n",
    "    midpoint = len(block) // 2\n",
    "    left_sub_block = block[:midpoint]\n",
    "    right_sub_block = block[midpoint:]\n",
    "    left_sub_permute = permutation[:midpoint]\n",
    "    right_sub_permute = permutation[midpoint:]\n",
    "\n",
    "    # Determine the error parity for the left sub-block\n",
    "    current_parity = compute_current_parity(left_sub_block)\n",
    "    correct_parity = compute_correct_parity(correct_key, left_sub_permute)\n",
    "    error_parity = compute_error_parity(correct_parity, current_parity)\n",
    "\n",
    "    if error_parity == \"ODD\":\n",
    "        # Error parity is odd, recurse into the left sub-block\n",
    "        corrected_left_sub_block = modified_recursive_binary_algorithm(left_sub_block, left_sub_permute, correct_key)\n",
    "        return corrected_left_sub_block + right_sub_block\n",
    "    else:\n",
    "        # Error parity is even, recurse into the right sub-block\n",
    "        corrected_right_sub_block = modified_recursive_binary_algorithm(right_sub_block, right_sub_permute, correct_key)\n",
    "        return left_sub_block + corrected_right_sub_block\n",
    "\n",
    "# Retry the error correction process using the modified algorithm\n",
    "corrected_key = bob_list\n",
    "\n",
    "for iteration in range(num_iterations):\n",
    "\n",
    "# Shuffle the corrected_key\n",
    "    shuffled_key, permutation = Key_Shuffle(corrected_key, iteration)\n",
    "\n",
    "# Determine the block size\n",
    "    block_size = int(block_creation(shuffled_key, iteration, Q))\n",
    "\n",
    "# Split the shuffled_key into blocks\n",
    "    blocks = split_binary_list(shuffled_key, block_size)\n",
    "\n",
    "# Correct errors in each block\n",
    "corrected_blocks = []\n",
    "for block in blocks:\n",
    "    corrected_block = recursive_binary_algorithm(block, permutation, alice_list)\n",
    "    corrected_blocks.extend(corrected_block)\n",
    "\n",
    "corrected_key = corrected_blocks\n",
    "'''\n",
    "Split the key into equal size block\n",
    "'''\n",
    "\n",
    "\n",
    "def split_binary_list(binary_list, block_size):\n",
    "    \n",
    "    # Check if the block size is valid\n",
    "    if block_size <= 0:\n",
    "        raise ValueError(\"Block size must be greater than 0.\")\n",
    "    \n",
    "    # Calculate the number of blocks\n",
    "    num_blocks = len(binary_list) // block_size\n",
    "\n",
    "    # Initialize a list to store the sublists\n",
    "    binary_blocks = []\n",
    "\n",
    "    # Split the binary list into blocks\n",
    "    for i in range(num_blocks):\n",
    "        start = i * block_size\n",
    "        end = start + block_size\n",
    "        block = binary_list[start:end]\n",
    "        binary_blocks.append(block)\n",
    "\n",
    "    return binary_blocks   \n",
    "        \n",
    "    \n",
    "        "
   ]
  },
  {
   "cell_type": "code",
   "execution_count": 10,
   "id": "74908816-8040-464b-bfac-f3ff813dab12",
   "metadata": {},
   "outputs": [
    {
     "name": "stdout",
     "output_type": "stream",
     "text": [
      "7840\n"
     ]
    }
   ],
   "source": [
    "file_path_correct = 'C:\\\\Users\\\\HP\\\\Cascade_data\\\\correct_TV.txt'\n",
    "try:\n",
    "    with open(file_path_correct, 'rb') as file1:  # Use 'rb' to read as binary\n",
    "        binary_content = file1.read()\n",
    "    correct_key = ''.join(format(byte, '08b') for byte in binary_content)\n",
    "except FileNotFoundError:\n",
    "    correct_key = ''\n",
    "print(len(correct_key))"
   ]
  },
  {
   "cell_type": "code",
   "execution_count": 11,
   "id": "cb7bbe29-c057-4425-b98f-2c09ca636f4b",
   "metadata": {},
   "outputs": [
    {
     "name": "stdout",
     "output_type": "stream",
     "text": [
      "7840\n"
     ]
    }
   ],
   "source": [
    "file_path_error = 'C:\\\\Users\\\\HP\\\\Cascade_data\\\\Error_indu_10.txt'\n",
    "try:\n",
    "    with open(file_path_error, 'rb') as file2:  # Use 'rb' to read as binary\n",
    "        binary_content = file2.read()\n",
    "    error_key_10 = ''.join(format(byte, '08b') for byte in binary_content)\n",
    "except FileNotFoundError:\n",
    "    error_key_10 = ''\n",
    "print(len(error_key_10))"
   ]
  },
  {
   "cell_type": "code",
   "execution_count": 12,
   "id": "6a816813-efce-420f-a675-cbe9ac162124",
   "metadata": {},
   "outputs": [
    {
     "name": "stdout",
     "output_type": "stream",
     "text": [
      "7840\n"
     ]
    }
   ],
   "source": [
    "file_path_error_20 = 'C:\\\\Users\\\\HP\\\\Cascade_data\\\\Error_indu_20.txt'\n",
    "try:\n",
    "    with open(file_path_error_20, 'rb') as file3:  # Use 'rb' to read as binary\n",
    "        binary_content = file3.read()\n",
    "    error_key_20 = ''.join(format(byte, '08b') for byte in binary_content)\n",
    "except FileNotFoundError:\n",
    "    error_key_20 = ''\n",
    "print(len(error_key_20))"
   ]
  },
  {
   "cell_type": "code",
   "execution_count": 13,
   "id": "138e02ef-7275-45d0-b7d3-722926bab631",
   "metadata": {},
   "outputs": [],
   "source": [
    "# Convert binary strings to lists of integers (0s and 1s)\n",
    "correct_key_list = [int(bit) for bit in correct_key]\n",
    "error_key_10_list = [int(bit) for bit in error_key_10]\n",
    "\n",
    "# Ensure both lists have the same length\n",
    "if len(correct_key_list) != len(error_key_10_list):\n",
    "    raise ValueError(\"Lists must have the same length.\")\n",
    "\n",
    "# Perform the bitwise XOR operation and count the number of ones\n",
    "Q = sum(bit1 ^ bit2 for bit1, bit2 in zip(correct_key_list, error_key_10_list)) / len(correct_key_list)\n"
   ]
  },
  {
   "cell_type": "code",
   "execution_count": 10,
   "id": "6be7a404-252e-4391-8a8e-0a65ce1e6323",
   "metadata": {},
   "outputs": [],
   "source": [
    "alice =\"01001110011110100111100110001111010111011000001010010100010110101101010101111100010111010111111000001011100100101010000\"\n",
    "alice_key = []\n",
    "for i in alice:\n",
    "    alice_key.append(int(i))\n",
    "bob =\"00001110011110100111100110001111011111011000001010000100010110111100010101100000010111000111111001001011100100101010010\"\n",
    "bob_key = []\n",
    "for j in bob:\n",
    "    bob_key.append(int(j))\n",
    "    "
   ]
  },
  {
   "cell_type": "code",
   "execution_count": 11,
   "id": "870e607b-933b-4e32-81f7-952242862680",
   "metadata": {},
   "outputs": [
    {
     "name": "stdout",
     "output_type": "stream",
     "text": [
      "[0, 1, 0, 0, 1, 1, 1, 0, 0, 1, 1, 1, 1, 0, 1, 0, 0, 1, 1, 1, 1, 0, 0, 1, 1, 0, 0, 0, 1, 1, 1, 1, 0, 1, 0, 1, 1, 1, 0, 1, 1, 0, 0, 0, 0, 0, 1, 0, 1, 0, 0, 1, 0, 1, 0, 0, 0, 1, 0, 1, 1, 0, 1, 0, 1, 1, 0, 1, 0, 1, 0, 1, 0, 1, 1, 1, 1, 1, 0, 0, 0, 1, 0, 1, 1, 1, 0, 1, 0, 1, 1, 1, 1, 1, 1, 0, 0, 0, 0, 0, 1, 0, 1, 1, 1, 0, 0, 1, 0, 0, 1, 0, 1, 0, 1, 0, 0, 0, 0]\n",
      "[0, 0, 0, 0, 1, 1, 1, 0, 0, 1, 1, 1, 1, 0, 1, 0, 0, 1, 1, 1, 1, 0, 0, 1, 1, 0, 0, 0, 1, 1, 1, 1, 0, 1, 1, 1, 1, 1, 0, 1, 1, 0, 0, 0, 0, 0, 1, 0, 1, 0, 0, 0, 0, 1, 0, 0, 0, 1, 0, 1, 1, 0, 1, 1, 1, 1, 0, 0, 0, 1, 0, 1, 0, 1, 1, 0, 0, 0, 0, 0, 0, 1, 0, 1, 1, 1, 0, 0, 0, 1, 1, 1, 1, 1, 1, 0, 0, 1, 0, 0, 1, 0, 1, 1, 1, 0, 0, 1, 0, 0, 1, 0, 1, 0, 1, 0, 0, 1, 0]\n"
     ]
    }
   ],
   "source": [
    "print(alice_key)\n",
    "print(bob_key)"
   ]
  },
  {
   "cell_type": "code",
   "execution_count": 12,
   "id": "05eda0b1-f494-414c-b40d-cbf6ff9c0bf2",
   "metadata": {},
   "outputs": [],
   "source": [
    "Q = 0.09375"
   ]
  },
  {
   "cell_type": "code",
   "execution_count": 28,
   "id": "f639260f-6a00-4298-b4d4-a9e22fc311bd",
   "metadata": {},
   "outputs": [
    {
     "name": "stdout",
     "output_type": "stream",
     "text": [
      "ODD\n",
      "3\n",
      "[0, 0, 0, 0, 1, 1, 1, 0]\n",
      "leftsubblock\n",
      "ODD\n",
      "[0, 0, 0, 0]\n",
      "alice_block\n",
      "0\n",
      "1\n",
      "0\n",
      "0\n",
      "1\n",
      "1\n",
      "1\n",
      "0\n",
      "0\n",
      "[0, 0, 0, 0]\n"
     ]
    },
    {
     "ename": "ValueError",
     "evalue": "Input block must have an odd number of errors.",
     "output_type": "error",
     "traceback": [
      "\u001b[0;31m---------------------------------------------------------------------------\u001b[0m",
      "\u001b[0;31mValueError\u001b[0m                                Traceback (most recent call last)",
      "Cell \u001b[0;32mIn[28], line 14\u001b[0m\n\u001b[1;32m     12\u001b[0m \u001b[38;5;28mprint\u001b[39m(error_parity)\n\u001b[1;32m     13\u001b[0m \u001b[38;5;28;01mif\u001b[39;00m error_parity \u001b[38;5;241m==\u001b[39m \u001b[38;5;124m\"\u001b[39m\u001b[38;5;124mODD\u001b[39m\u001b[38;5;124m\"\u001b[39m:\n\u001b[0;32m---> 14\u001b[0m     corrected_key \u001b[38;5;241m=\u001b[39m \u001b[43mrecursive_binary_algorithm\u001b[49m\u001b[43m(\u001b[49m\u001b[43mblocks_list\u001b[49m\u001b[43m[\u001b[49m\u001b[43mj\u001b[49m\u001b[43m]\u001b[49m\u001b[43m,\u001b[49m\u001b[43m \u001b[49m\u001b[43mpermutation_blocks\u001b[49m\u001b[43m[\u001b[49m\u001b[43mj\u001b[49m\u001b[43m]\u001b[49m\u001b[43m,\u001b[49m\u001b[43m \u001b[49m\u001b[43malice_key\u001b[49m\u001b[43m)\u001b[49m\n\u001b[1;32m     15\u001b[0m     corrected_string\u001b[38;5;241m.\u001b[39mappend(corrected_key)\n",
      "Cell \u001b[0;32mIn[27], line 148\u001b[0m, in \u001b[0;36mrecursive_binary_algorithm\u001b[0;34m(block, permutation, correct_key)\u001b[0m\n\u001b[1;32m    146\u001b[0m         \u001b[38;5;28mprint\u001b[39m(correct_key[permutation[i]])\n\u001b[1;32m    147\u001b[0m     \u001b[38;5;66;03m# Error parity is odd, recurse into the left sub-block\u001b[39;00m\n\u001b[0;32m--> 148\u001b[0m     corrected_left_sub_block \u001b[38;5;241m=\u001b[39m \u001b[43mrecursive_binary_algorithm\u001b[49m\u001b[43m(\u001b[49m\u001b[43mleft_sub_block\u001b[49m\u001b[43m,\u001b[49m\u001b[43m \u001b[49m\u001b[43mleft_sub_permute\u001b[49m\u001b[43m,\u001b[49m\u001b[43m \u001b[49m\u001b[43mcorrect_key\u001b[49m\u001b[43m)\u001b[49m\n\u001b[1;32m    149\u001b[0m     \u001b[38;5;28;01mreturn\u001b[39;00m corrected_left_sub_block \u001b[38;5;241m+\u001b[39m right_sub_block  \u001b[38;5;66;03m# Combine the corrected left sub-block with the right sub-block\u001b[39;00m\n\u001b[1;32m    150\u001b[0m \u001b[38;5;28;01mif\u001b[39;00m(error_parity \u001b[38;5;241m==\u001b[39m \u001b[38;5;124m\"\u001b[39m\u001b[38;5;124mEVEN\u001b[39m\u001b[38;5;124m\"\u001b[39m):\n",
      "Cell \u001b[0;32mIn[27], line 120\u001b[0m, in \u001b[0;36mrecursive_binary_algorithm\u001b[0;34m(block, permutation, correct_key)\u001b[0m\n\u001b[1;32m    118\u001b[0m \u001b[38;5;28mprint\u001b[39m(block)\n\u001b[1;32m    119\u001b[0m \u001b[38;5;28;01mif\u001b[39;00m \u001b[38;5;28msum\u001b[39m \u001b[38;5;241m%\u001b[39m \u001b[38;5;241m2\u001b[39m \u001b[38;5;241m==\u001b[39m \u001b[38;5;241m0\u001b[39m:\n\u001b[0;32m--> 120\u001b[0m     \u001b[38;5;28;01mraise\u001b[39;00m \u001b[38;5;167;01mValueError\u001b[39;00m(\u001b[38;5;124m\"\u001b[39m\u001b[38;5;124mInput block must have an odd number of errors.\u001b[39m\u001b[38;5;124m\"\u001b[39m)\n\u001b[1;32m    122\u001b[0m \u001b[38;5;66;03m# Base case: If the block has only one bit and we know it has an odd number of errors,\u001b[39;00m\n\u001b[1;32m    123\u001b[0m \u001b[38;5;66;03m# we can conclude that the single bit must be in error and correct it.\u001b[39;00m\n\u001b[1;32m    124\u001b[0m \u001b[38;5;28;01mif\u001b[39;00m \u001b[38;5;28mlen\u001b[39m(block) \u001b[38;5;241m==\u001b[39m \u001b[38;5;241m1\u001b[39m:\n",
      "\u001b[0;31mValueError\u001b[0m: Input block must have an odd number of errors."
     ]
    }
   ],
   "source": [
    "corrected_string = []\n",
    "for iteration in range(4):\n",
    "    shuffled_key, permutation = Key_Shuffle(bob_key, iteration)\n",
    "    block_size = m.ceil(block_creation(shuffled_key, iteration, Q))\n",
    "    blocks_list = split_binary_list(shuffled_key, block_size)\n",
    "    permutation_blocks = split_binary_list(permutation, block_size)\n",
    "    no_blocks = len(shuffled_key) // block_size\n",
    "    for j in range(no_blocks):\n",
    "        current_parity = compute_current_parity(blocks_list[j])\n",
    "        correct_parity = compute_correct_parity(alice_key, permutation_blocks[j])\n",
    "        error_parity = compute_error_parity(correct_parity, current_parity)\n",
    "        print(error_parity)\n",
    "        if error_parity == \"ODD\":\n",
    "            corrected_key = recursive_binary_algorithm(blocks_list[j], permutation_blocks[j], alice_key)\n",
    "            corrected_string.append(corrected_key)\n"
   ]
  },
  {
   "cell_type": "code",
   "execution_count": 19,
   "id": "8c0f766a-c428-4976-8c91-a76d01b90687",
   "metadata": {},
   "outputs": [],
   "source": [
    "\n",
    "Q2 = sum(bit1 ^ bit2 for bit1, bit2 in zip(corrected_string, error_key_10_list)) / len(correct_key_list)\n"
   ]
  },
  {
   "cell_type": "code",
   "execution_count": null,
   "id": "e15a5243-eaf9-464a-9183-574702df050f",
   "metadata": {},
   "outputs": [],
   "source": [
    "print(Q2)"
   ]
  },
  {
   "cell_type": "code",
   "execution_count": 20,
   "id": "8d7ed76c-72a2-4fb1-b519-4e41ab275390",
   "metadata": {},
   "outputs": [
    {
     "data": {
      "text/plain": [
       "'\\nshuffled_key, permutation_block = Key_Shuffle(error_key_10_list, 1)\\nblock_size = m.ceil(block_creation(shuffled_key, 1, Q))\\nblocks_list = split_binary_list(shuffled_key, block_size)\\npermutation_blocks_list = split_binary_list(permutation_block, block_size)\\nno_blocks = len(shuffled_key) // block_size\\n'"
      ]
     },
     "execution_count": 20,
     "metadata": {},
     "output_type": "execute_result"
    }
   ],
   "source": [
    "'''\n",
    "shuffled_key, permutation_block = Key_Shuffle(error_key_10_list, 1)\n",
    "block_size = m.ceil(block_creation(shuffled_key, 1, Q))\n",
    "blocks_list = split_binary_list(shuffled_key, block_size)\n",
    "permutation_blocks_list = split_binary_list(permutation_block, block_size)\n",
    "no_blocks = len(shuffled_key) // block_size\n",
    "'''"
   ]
  },
  {
   "cell_type": "code",
   "execution_count": null,
   "id": "8a49d1a4-6edd-4841-8e35-62fdf11c113b",
   "metadata": {},
   "outputs": [],
   "source": []
  }
 ],
 "metadata": {
  "kernelspec": {
   "display_name": "Python 3 (ipykernel)",
   "language": "python",
   "name": "python3"
  },
  "language_info": {
   "codemirror_mode": {
    "name": "ipython",
    "version": 3
   },
   "file_extension": ".py",
   "mimetype": "text/x-python",
   "name": "python",
   "nbconvert_exporter": "python",
   "pygments_lexer": "ipython3",
   "version": "3.8.18"
  }
 },
 "nbformat": 4,
 "nbformat_minor": 5
}
